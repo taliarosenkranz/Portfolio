{
 "cells": [
  {
   "cell_type": "markdown",
   "id": "d5b58127",
   "metadata": {},
   "source": [
    "### CASE STUDY - CUSTOMER LIFETIME VALUE CALCULATION FOR RETAIL COMPANY\n"
   ]
  },
  {
   "cell_type": "markdown",
   "id": "b4012e58",
   "metadata": {},
   "source": [
    "### Tearm and caluclation explanation:"
   ]
  },
  {
   "cell_type": "markdown",
   "id": "a02ef2a9",
   "metadata": {},
   "source": [
    "CLTV = (Customer_Value / Churn_Rate) x Profit_margin"
   ]
  },
  {
   "cell_type": "markdown",
   "id": "d3bd0bd3",
   "metadata": {},
   "source": [
    "CLTV = (Customer_Value * Profit_margin) /  Churn_Rate"
   ]
  },
  {
   "cell_type": "markdown",
   "id": "a2284af9",
   "metadata": {},
   "source": [
    "- Customer_Value = Average_Order_Value * Purchase_Frequency\n",
    "- Average_Order_Value = Total_Revenue / Total_Number_of_Orders\n",
    "- Purchase_Frequency =  Total_Number_of_Orders / Total_Number_of_Customers\n",
    "- Churn_Rate = 1 - Repeat_Rate\n",
    "- Also need the Profit_margin\n",
    "\n",
    "1000 new users. In one year 25% of customers have Retention in one year. What is average lifetime?\n",
    "- Churn Rate = we will loose 75% of customers in that year.\n",
    "   - 1 / 0.75 * 12 (Month) = 16 months is average lifetime of a customer\n",
    "  \n",
    "\n",
    "\n",
    "\n"
   ]
  },
  {
   "cell_type": "markdown",
   "id": "bb89e7c1",
   "metadata": {},
   "source": [
    "### Importing libraries"
   ]
  },
  {
   "cell_type": "code",
   "execution_count": 4,
   "id": "43411bbb",
   "metadata": {},
   "outputs": [],
   "source": [
    "# importing libraris \n",
    "\n",
    "import pandas as pd\n",
    "import matplotlib.pyplot as plt\n",
    "\n",
    "pd.set_option('display.max_columns', 20)\n",
    "# pd.set_option('display.max_rows', 20)\n",
    "pd.set_option('display.float_format', lambda x: '%.5f' % x)\n",
    "from sklearn.preprocessing import MinMaxScaler"
   ]
  },
  {
   "cell_type": "code",
   "execution_count": 5,
   "id": "f7060051",
   "metadata": {},
   "outputs": [],
   "source": [
    "df_ = pd.read_excel(\"online_retail_II.xlsx\",\n",
    "                    sheet_name=\"Year 2010-2011\")"
   ]
  },
  {
   "cell_type": "code",
   "execution_count": 9,
   "id": "6d3e36df",
   "metadata": {},
   "outputs": [],
   "source": [
    "df = df_.copy()"
   ]
  },
  {
   "cell_type": "code",
   "execution_count": 7,
   "id": "76253ebe",
   "metadata": {},
   "outputs": [
    {
     "data": {
      "text/html": [
       "<div>\n",
       "<style scoped>\n",
       "    .dataframe tbody tr th:only-of-type {\n",
       "        vertical-align: middle;\n",
       "    }\n",
       "\n",
       "    .dataframe tbody tr th {\n",
       "        vertical-align: top;\n",
       "    }\n",
       "\n",
       "    .dataframe thead th {\n",
       "        text-align: right;\n",
       "    }\n",
       "</style>\n",
       "<table border=\"1\" class=\"dataframe\">\n",
       "  <thead>\n",
       "    <tr style=\"text-align: right;\">\n",
       "      <th></th>\n",
       "      <th>Invoice</th>\n",
       "      <th>StockCode</th>\n",
       "      <th>Description</th>\n",
       "      <th>Quantity</th>\n",
       "      <th>InvoiceDate</th>\n",
       "      <th>Price</th>\n",
       "      <th>Customer ID</th>\n",
       "      <th>Country</th>\n",
       "    </tr>\n",
       "  </thead>\n",
       "  <tbody>\n",
       "    <tr>\n",
       "      <th>0</th>\n",
       "      <td>536365</td>\n",
       "      <td>85123A</td>\n",
       "      <td>WHITE HANGING HEART T-LIGHT HOLDER</td>\n",
       "      <td>6</td>\n",
       "      <td>2010-12-01 08:26:00</td>\n",
       "      <td>2.55000</td>\n",
       "      <td>17850.00000</td>\n",
       "      <td>United Kingdom</td>\n",
       "    </tr>\n",
       "    <tr>\n",
       "      <th>1</th>\n",
       "      <td>536365</td>\n",
       "      <td>71053</td>\n",
       "      <td>WHITE METAL LANTERN</td>\n",
       "      <td>6</td>\n",
       "      <td>2010-12-01 08:26:00</td>\n",
       "      <td>3.39000</td>\n",
       "      <td>17850.00000</td>\n",
       "      <td>United Kingdom</td>\n",
       "    </tr>\n",
       "    <tr>\n",
       "      <th>2</th>\n",
       "      <td>536365</td>\n",
       "      <td>84406B</td>\n",
       "      <td>CREAM CUPID HEARTS COAT HANGER</td>\n",
       "      <td>8</td>\n",
       "      <td>2010-12-01 08:26:00</td>\n",
       "      <td>2.75000</td>\n",
       "      <td>17850.00000</td>\n",
       "      <td>United Kingdom</td>\n",
       "    </tr>\n",
       "    <tr>\n",
       "      <th>3</th>\n",
       "      <td>536365</td>\n",
       "      <td>84029G</td>\n",
       "      <td>KNITTED UNION FLAG HOT WATER BOTTLE</td>\n",
       "      <td>6</td>\n",
       "      <td>2010-12-01 08:26:00</td>\n",
       "      <td>3.39000</td>\n",
       "      <td>17850.00000</td>\n",
       "      <td>United Kingdom</td>\n",
       "    </tr>\n",
       "    <tr>\n",
       "      <th>4</th>\n",
       "      <td>536365</td>\n",
       "      <td>84029E</td>\n",
       "      <td>RED WOOLLY HOTTIE WHITE HEART.</td>\n",
       "      <td>6</td>\n",
       "      <td>2010-12-01 08:26:00</td>\n",
       "      <td>3.39000</td>\n",
       "      <td>17850.00000</td>\n",
       "      <td>United Kingdom</td>\n",
       "    </tr>\n",
       "    <tr>\n",
       "      <th>...</th>\n",
       "      <td>...</td>\n",
       "      <td>...</td>\n",
       "      <td>...</td>\n",
       "      <td>...</td>\n",
       "      <td>...</td>\n",
       "      <td>...</td>\n",
       "      <td>...</td>\n",
       "      <td>...</td>\n",
       "    </tr>\n",
       "    <tr>\n",
       "      <th>95</th>\n",
       "      <td>536378</td>\n",
       "      <td>22352</td>\n",
       "      <td>LUNCH BOX WITH CUTLERY RETROSPOT</td>\n",
       "      <td>6</td>\n",
       "      <td>2010-12-01 09:37:00</td>\n",
       "      <td>2.55000</td>\n",
       "      <td>14688.00000</td>\n",
       "      <td>United Kingdom</td>\n",
       "    </tr>\n",
       "    <tr>\n",
       "      <th>96</th>\n",
       "      <td>536378</td>\n",
       "      <td>21212</td>\n",
       "      <td>PACK OF 72 RETROSPOT CAKE CASES</td>\n",
       "      <td>120</td>\n",
       "      <td>2010-12-01 09:37:00</td>\n",
       "      <td>0.42000</td>\n",
       "      <td>14688.00000</td>\n",
       "      <td>United Kingdom</td>\n",
       "    </tr>\n",
       "    <tr>\n",
       "      <th>97</th>\n",
       "      <td>536378</td>\n",
       "      <td>21975</td>\n",
       "      <td>PACK OF 60 DINOSAUR CAKE CASES</td>\n",
       "      <td>24</td>\n",
       "      <td>2010-12-01 09:37:00</td>\n",
       "      <td>0.55000</td>\n",
       "      <td>14688.00000</td>\n",
       "      <td>United Kingdom</td>\n",
       "    </tr>\n",
       "    <tr>\n",
       "      <th>98</th>\n",
       "      <td>536378</td>\n",
       "      <td>21977</td>\n",
       "      <td>PACK OF 60 PINK PAISLEY CAKE CASES</td>\n",
       "      <td>24</td>\n",
       "      <td>2010-12-01 09:37:00</td>\n",
       "      <td>0.55000</td>\n",
       "      <td>14688.00000</td>\n",
       "      <td>United Kingdom</td>\n",
       "    </tr>\n",
       "    <tr>\n",
       "      <th>99</th>\n",
       "      <td>536378</td>\n",
       "      <td>84991</td>\n",
       "      <td>60 TEATIME FAIRY CAKE CASES</td>\n",
       "      <td>24</td>\n",
       "      <td>2010-12-01 09:37:00</td>\n",
       "      <td>0.55000</td>\n",
       "      <td>14688.00000</td>\n",
       "      <td>United Kingdom</td>\n",
       "    </tr>\n",
       "  </tbody>\n",
       "</table>\n",
       "<p>100 rows × 8 columns</p>\n",
       "</div>"
      ],
      "text/plain": [
       "   Invoice StockCode                          Description  Quantity  \\\n",
       "0   536365    85123A   WHITE HANGING HEART T-LIGHT HOLDER         6   \n",
       "1   536365     71053                  WHITE METAL LANTERN         6   \n",
       "2   536365    84406B       CREAM CUPID HEARTS COAT HANGER         8   \n",
       "3   536365    84029G  KNITTED UNION FLAG HOT WATER BOTTLE         6   \n",
       "4   536365    84029E       RED WOOLLY HOTTIE WHITE HEART.         6   \n",
       "..     ...       ...                                  ...       ...   \n",
       "95  536378     22352    LUNCH BOX WITH CUTLERY RETROSPOT          6   \n",
       "96  536378     21212      PACK OF 72 RETROSPOT CAKE CASES       120   \n",
       "97  536378     21975       PACK OF 60 DINOSAUR CAKE CASES        24   \n",
       "98  536378     21977   PACK OF 60 PINK PAISLEY CAKE CASES        24   \n",
       "99  536378     84991          60 TEATIME FAIRY CAKE CASES        24   \n",
       "\n",
       "           InvoiceDate   Price  Customer ID         Country  \n",
       "0  2010-12-01 08:26:00 2.55000  17850.00000  United Kingdom  \n",
       "1  2010-12-01 08:26:00 3.39000  17850.00000  United Kingdom  \n",
       "2  2010-12-01 08:26:00 2.75000  17850.00000  United Kingdom  \n",
       "3  2010-12-01 08:26:00 3.39000  17850.00000  United Kingdom  \n",
       "4  2010-12-01 08:26:00 3.39000  17850.00000  United Kingdom  \n",
       "..                 ...     ...          ...             ...  \n",
       "95 2010-12-01 09:37:00 2.55000  14688.00000  United Kingdom  \n",
       "96 2010-12-01 09:37:00 0.42000  14688.00000  United Kingdom  \n",
       "97 2010-12-01 09:37:00 0.55000  14688.00000  United Kingdom  \n",
       "98 2010-12-01 09:37:00 0.55000  14688.00000  United Kingdom  \n",
       "99 2010-12-01 09:37:00 0.55000  14688.00000  United Kingdom  \n",
       "\n",
       "[100 rows x 8 columns]"
      ]
     },
     "execution_count": 7,
     "metadata": {},
     "output_type": "execute_result"
    }
   ],
   "source": [
    "df.head(100)"
   ]
  },
  {
   "cell_type": "markdown",
   "id": "b050ae42",
   "metadata": {},
   "source": [
    "### Data Preparation"
   ]
  },
  {
   "cell_type": "code",
   "execution_count": 10,
   "id": "ed83a7c2",
   "metadata": {},
   "outputs": [],
   "source": [
    "#rows with letter C aka cancelled need to be eliminated\n",
    "canceled_invoice = df[df[\"Invoice\"].str.contains(\"C\", na = False)]"
   ]
  },
  {
   "cell_type": "code",
   "execution_count": 11,
   "id": "1286a188",
   "metadata": {},
   "outputs": [
    {
     "data": {
      "text/html": [
       "<div>\n",
       "<style scoped>\n",
       "    .dataframe tbody tr th:only-of-type {\n",
       "        vertical-align: middle;\n",
       "    }\n",
       "\n",
       "    .dataframe tbody tr th {\n",
       "        vertical-align: top;\n",
       "    }\n",
       "\n",
       "    .dataframe thead th {\n",
       "        text-align: right;\n",
       "    }\n",
       "</style>\n",
       "<table border=\"1\" class=\"dataframe\">\n",
       "  <thead>\n",
       "    <tr style=\"text-align: right;\">\n",
       "      <th></th>\n",
       "      <th>Invoice</th>\n",
       "      <th>StockCode</th>\n",
       "      <th>Description</th>\n",
       "      <th>Quantity</th>\n",
       "      <th>InvoiceDate</th>\n",
       "      <th>Price</th>\n",
       "      <th>Customer ID</th>\n",
       "      <th>Country</th>\n",
       "    </tr>\n",
       "  </thead>\n",
       "  <tbody>\n",
       "    <tr>\n",
       "      <th>141</th>\n",
       "      <td>C536379</td>\n",
       "      <td>D</td>\n",
       "      <td>Discount</td>\n",
       "      <td>-1</td>\n",
       "      <td>2010-12-01 09:41:00</td>\n",
       "      <td>27.50000</td>\n",
       "      <td>14527.00000</td>\n",
       "      <td>United Kingdom</td>\n",
       "    </tr>\n",
       "    <tr>\n",
       "      <th>154</th>\n",
       "      <td>C536383</td>\n",
       "      <td>35004C</td>\n",
       "      <td>SET OF 3 COLOURED  FLYING DUCKS</td>\n",
       "      <td>-1</td>\n",
       "      <td>2010-12-01 09:49:00</td>\n",
       "      <td>4.65000</td>\n",
       "      <td>15311.00000</td>\n",
       "      <td>United Kingdom</td>\n",
       "    </tr>\n",
       "    <tr>\n",
       "      <th>235</th>\n",
       "      <td>C536391</td>\n",
       "      <td>22556</td>\n",
       "      <td>PLASTERS IN TIN CIRCUS PARADE</td>\n",
       "      <td>-12</td>\n",
       "      <td>2010-12-01 10:24:00</td>\n",
       "      <td>1.65000</td>\n",
       "      <td>17548.00000</td>\n",
       "      <td>United Kingdom</td>\n",
       "    </tr>\n",
       "    <tr>\n",
       "      <th>236</th>\n",
       "      <td>C536391</td>\n",
       "      <td>21984</td>\n",
       "      <td>PACK OF 12 PINK PAISLEY TISSUES</td>\n",
       "      <td>-24</td>\n",
       "      <td>2010-12-01 10:24:00</td>\n",
       "      <td>0.29000</td>\n",
       "      <td>17548.00000</td>\n",
       "      <td>United Kingdom</td>\n",
       "    </tr>\n",
       "    <tr>\n",
       "      <th>237</th>\n",
       "      <td>C536391</td>\n",
       "      <td>21983</td>\n",
       "      <td>PACK OF 12 BLUE PAISLEY TISSUES</td>\n",
       "      <td>-24</td>\n",
       "      <td>2010-12-01 10:24:00</td>\n",
       "      <td>0.29000</td>\n",
       "      <td>17548.00000</td>\n",
       "      <td>United Kingdom</td>\n",
       "    </tr>\n",
       "  </tbody>\n",
       "</table>\n",
       "</div>"
      ],
      "text/plain": [
       "     Invoice StockCode                       Description  Quantity  \\\n",
       "141  C536379         D                          Discount        -1   \n",
       "154  C536383    35004C   SET OF 3 COLOURED  FLYING DUCKS        -1   \n",
       "235  C536391     22556    PLASTERS IN TIN CIRCUS PARADE        -12   \n",
       "236  C536391     21984  PACK OF 12 PINK PAISLEY TISSUES        -24   \n",
       "237  C536391     21983  PACK OF 12 BLUE PAISLEY TISSUES        -24   \n",
       "\n",
       "            InvoiceDate    Price  Customer ID         Country  \n",
       "141 2010-12-01 09:41:00 27.50000  14527.00000  United Kingdom  \n",
       "154 2010-12-01 09:49:00  4.65000  15311.00000  United Kingdom  \n",
       "235 2010-12-01 10:24:00  1.65000  17548.00000  United Kingdom  \n",
       "236 2010-12-01 10:24:00  0.29000  17548.00000  United Kingdom  \n",
       "237 2010-12-01 10:24:00  0.29000  17548.00000  United Kingdom  "
      ]
     },
     "execution_count": 11,
     "metadata": {},
     "output_type": "execute_result"
    }
   ],
   "source": [
    "canceled_invoice.head()"
   ]
  },
  {
   "cell_type": "code",
   "execution_count": 44,
   "id": "3b2bd74b",
   "metadata": {},
   "outputs": [
    {
     "data": {
      "text/plain": [
       "(9288, 8)"
      ]
     },
     "execution_count": 44,
     "metadata": {},
     "output_type": "execute_result"
    }
   ],
   "source": [
    "canceled_invoice.shape"
   ]
  },
  {
   "cell_type": "code",
   "execution_count": 45,
   "id": "545bb82a",
   "metadata": {},
   "outputs": [
    {
     "data": {
      "text/plain": [
       "(541910, 8)"
      ]
     },
     "execution_count": 45,
     "metadata": {},
     "output_type": "execute_result"
    }
   ],
   "source": [
    "df.shape"
   ]
  },
  {
   "cell_type": "code",
   "execution_count": 12,
   "id": "ba4523a1",
   "metadata": {},
   "outputs": [],
   "source": [
    "#new df without cancelled orders\n",
    "df = df[~df[\"Invoice\"].str.contains(\"C\", na=False)]"
   ]
  },
  {
   "cell_type": "code",
   "execution_count": 103,
   "id": "0385ce27",
   "metadata": {},
   "outputs": [
    {
     "data": {
      "text/html": [
       "<div>\n",
       "<style scoped>\n",
       "    .dataframe tbody tr th:only-of-type {\n",
       "        vertical-align: middle;\n",
       "    }\n",
       "\n",
       "    .dataframe tbody tr th {\n",
       "        vertical-align: top;\n",
       "    }\n",
       "\n",
       "    .dataframe thead th {\n",
       "        text-align: right;\n",
       "    }\n",
       "</style>\n",
       "<table border=\"1\" class=\"dataframe\">\n",
       "  <thead>\n",
       "    <tr style=\"text-align: right;\">\n",
       "      <th></th>\n",
       "      <th>Invoice</th>\n",
       "      <th>StockCode</th>\n",
       "      <th>Description</th>\n",
       "      <th>Quantity</th>\n",
       "      <th>InvoiceDate</th>\n",
       "      <th>Price</th>\n",
       "      <th>Customer ID</th>\n",
       "      <th>Country</th>\n",
       "      <th>TotalPrice</th>\n",
       "    </tr>\n",
       "  </thead>\n",
       "  <tbody>\n",
       "    <tr>\n",
       "      <th>0</th>\n",
       "      <td>536365</td>\n",
       "      <td>85123A</td>\n",
       "      <td>WHITE HANGING HEART T-LIGHT HOLDER</td>\n",
       "      <td>6</td>\n",
       "      <td>2010-12-01 08:26:00</td>\n",
       "      <td>2.55000</td>\n",
       "      <td>17850.00000</td>\n",
       "      <td>United Kingdom</td>\n",
       "      <td>15.30000</td>\n",
       "    </tr>\n",
       "    <tr>\n",
       "      <th>1</th>\n",
       "      <td>536365</td>\n",
       "      <td>71053</td>\n",
       "      <td>WHITE METAL LANTERN</td>\n",
       "      <td>6</td>\n",
       "      <td>2010-12-01 08:26:00</td>\n",
       "      <td>3.39000</td>\n",
       "      <td>17850.00000</td>\n",
       "      <td>United Kingdom</td>\n",
       "      <td>20.34000</td>\n",
       "    </tr>\n",
       "    <tr>\n",
       "      <th>2</th>\n",
       "      <td>536365</td>\n",
       "      <td>84406B</td>\n",
       "      <td>CREAM CUPID HEARTS COAT HANGER</td>\n",
       "      <td>8</td>\n",
       "      <td>2010-12-01 08:26:00</td>\n",
       "      <td>2.75000</td>\n",
       "      <td>17850.00000</td>\n",
       "      <td>United Kingdom</td>\n",
       "      <td>22.00000</td>\n",
       "    </tr>\n",
       "    <tr>\n",
       "      <th>3</th>\n",
       "      <td>536365</td>\n",
       "      <td>84029G</td>\n",
       "      <td>KNITTED UNION FLAG HOT WATER BOTTLE</td>\n",
       "      <td>6</td>\n",
       "      <td>2010-12-01 08:26:00</td>\n",
       "      <td>3.39000</td>\n",
       "      <td>17850.00000</td>\n",
       "      <td>United Kingdom</td>\n",
       "      <td>20.34000</td>\n",
       "    </tr>\n",
       "    <tr>\n",
       "      <th>4</th>\n",
       "      <td>536365</td>\n",
       "      <td>84029E</td>\n",
       "      <td>RED WOOLLY HOTTIE WHITE HEART.</td>\n",
       "      <td>6</td>\n",
       "      <td>2010-12-01 08:26:00</td>\n",
       "      <td>3.39000</td>\n",
       "      <td>17850.00000</td>\n",
       "      <td>United Kingdom</td>\n",
       "      <td>20.34000</td>\n",
       "    </tr>\n",
       "    <tr>\n",
       "      <th>...</th>\n",
       "      <td>...</td>\n",
       "      <td>...</td>\n",
       "      <td>...</td>\n",
       "      <td>...</td>\n",
       "      <td>...</td>\n",
       "      <td>...</td>\n",
       "      <td>...</td>\n",
       "      <td>...</td>\n",
       "      <td>...</td>\n",
       "    </tr>\n",
       "    <tr>\n",
       "      <th>541905</th>\n",
       "      <td>581587</td>\n",
       "      <td>22899</td>\n",
       "      <td>CHILDREN'S APRON DOLLY GIRL</td>\n",
       "      <td>6</td>\n",
       "      <td>2011-12-09 12:50:00</td>\n",
       "      <td>2.10000</td>\n",
       "      <td>12680.00000</td>\n",
       "      <td>France</td>\n",
       "      <td>12.60000</td>\n",
       "    </tr>\n",
       "    <tr>\n",
       "      <th>541906</th>\n",
       "      <td>581587</td>\n",
       "      <td>23254</td>\n",
       "      <td>CHILDRENS CUTLERY DOLLY GIRL</td>\n",
       "      <td>4</td>\n",
       "      <td>2011-12-09 12:50:00</td>\n",
       "      <td>4.15000</td>\n",
       "      <td>12680.00000</td>\n",
       "      <td>France</td>\n",
       "      <td>16.60000</td>\n",
       "    </tr>\n",
       "    <tr>\n",
       "      <th>541907</th>\n",
       "      <td>581587</td>\n",
       "      <td>23255</td>\n",
       "      <td>CHILDRENS CUTLERY CIRCUS PARADE</td>\n",
       "      <td>4</td>\n",
       "      <td>2011-12-09 12:50:00</td>\n",
       "      <td>4.15000</td>\n",
       "      <td>12680.00000</td>\n",
       "      <td>France</td>\n",
       "      <td>16.60000</td>\n",
       "    </tr>\n",
       "    <tr>\n",
       "      <th>541908</th>\n",
       "      <td>581587</td>\n",
       "      <td>22138</td>\n",
       "      <td>BAKING SET 9 PIECE RETROSPOT</td>\n",
       "      <td>3</td>\n",
       "      <td>2011-12-09 12:50:00</td>\n",
       "      <td>4.95000</td>\n",
       "      <td>12680.00000</td>\n",
       "      <td>France</td>\n",
       "      <td>14.85000</td>\n",
       "    </tr>\n",
       "    <tr>\n",
       "      <th>541909</th>\n",
       "      <td>581587</td>\n",
       "      <td>POST</td>\n",
       "      <td>POSTAGE</td>\n",
       "      <td>1</td>\n",
       "      <td>2011-12-09 12:50:00</td>\n",
       "      <td>18.00000</td>\n",
       "      <td>12680.00000</td>\n",
       "      <td>France</td>\n",
       "      <td>18.00000</td>\n",
       "    </tr>\n",
       "  </tbody>\n",
       "</table>\n",
       "<p>397925 rows × 9 columns</p>\n",
       "</div>"
      ],
      "text/plain": [
       "       Invoice StockCode                          Description  Quantity  \\\n",
       "0       536365    85123A   WHITE HANGING HEART T-LIGHT HOLDER         6   \n",
       "1       536365     71053                  WHITE METAL LANTERN         6   \n",
       "2       536365    84406B       CREAM CUPID HEARTS COAT HANGER         8   \n",
       "3       536365    84029G  KNITTED UNION FLAG HOT WATER BOTTLE         6   \n",
       "4       536365    84029E       RED WOOLLY HOTTIE WHITE HEART.         6   \n",
       "...        ...       ...                                  ...       ...   \n",
       "541905  581587     22899         CHILDREN'S APRON DOLLY GIRL          6   \n",
       "541906  581587     23254        CHILDRENS CUTLERY DOLLY GIRL          4   \n",
       "541907  581587     23255      CHILDRENS CUTLERY CIRCUS PARADE         4   \n",
       "541908  581587     22138        BAKING SET 9 PIECE RETROSPOT          3   \n",
       "541909  581587      POST                              POSTAGE         1   \n",
       "\n",
       "               InvoiceDate    Price  Customer ID         Country  TotalPrice  \n",
       "0      2010-12-01 08:26:00  2.55000  17850.00000  United Kingdom    15.30000  \n",
       "1      2010-12-01 08:26:00  3.39000  17850.00000  United Kingdom    20.34000  \n",
       "2      2010-12-01 08:26:00  2.75000  17850.00000  United Kingdom    22.00000  \n",
       "3      2010-12-01 08:26:00  3.39000  17850.00000  United Kingdom    20.34000  \n",
       "4      2010-12-01 08:26:00  3.39000  17850.00000  United Kingdom    20.34000  \n",
       "...                    ...      ...          ...             ...         ...  \n",
       "541905 2011-12-09 12:50:00  2.10000  12680.00000          France    12.60000  \n",
       "541906 2011-12-09 12:50:00  4.15000  12680.00000          France    16.60000  \n",
       "541907 2011-12-09 12:50:00  4.15000  12680.00000          France    16.60000  \n",
       "541908 2011-12-09 12:50:00  4.95000  12680.00000          France    14.85000  \n",
       "541909 2011-12-09 12:50:00 18.00000  12680.00000          France    18.00000  \n",
       "\n",
       "[397925 rows x 9 columns]"
      ]
     },
     "execution_count": 103,
     "metadata": {},
     "output_type": "execute_result"
    }
   ],
   "source": [
    "df"
   ]
  },
  {
   "cell_type": "code",
   "execution_count": 104,
   "id": "cf704a49",
   "metadata": {},
   "outputs": [
    {
     "data": {
      "text/plain": [
       "(397925, 9)"
      ]
     },
     "execution_count": 104,
     "metadata": {},
     "output_type": "execute_result"
    }
   ],
   "source": [
    "df.shape"
   ]
  },
  {
   "cell_type": "code",
   "execution_count": 13,
   "id": "ccea0269",
   "metadata": {},
   "outputs": [
    {
     "data": {
      "text/plain": [
       "532622"
      ]
     },
     "execution_count": 13,
     "metadata": {},
     "output_type": "execute_result"
    }
   ],
   "source": [
    "test_number_correct_new_rows = 541910 - 9288\n",
    "test_number_correct_new_rows"
   ]
  },
  {
   "cell_type": "code",
   "execution_count": 15,
   "id": "b71fe1fa",
   "metadata": {},
   "outputs": [
    {
     "data": {
      "text/plain": [
       "(1336, 8)"
      ]
     },
     "execution_count": 15,
     "metadata": {},
     "output_type": "execute_result"
    }
   ],
   "source": [
    "#checking for rows tht have no or negative quantity\n",
    "df[(df[\"Quantity\"]< 0)].shape"
   ]
  },
  {
   "cell_type": "code",
   "execution_count": 16,
   "id": "a4cbac02",
   "metadata": {},
   "outputs": [],
   "source": [
    "#removing rows that have negative quantity\n",
    "df = df[(df[\"Quantity\"]> 0)]"
   ]
  },
  {
   "cell_type": "code",
   "execution_count": 17,
   "id": "37cabf0b",
   "metadata": {},
   "outputs": [
    {
     "data": {
      "text/plain": [
       "(531286, 8)"
      ]
     },
     "execution_count": 17,
     "metadata": {},
     "output_type": "execute_result"
    }
   ],
   "source": [
    "df.shape"
   ]
  },
  {
   "cell_type": "code",
   "execution_count": 18,
   "id": "6fccda15",
   "metadata": {},
   "outputs": [],
   "source": [
    "#feature generation - total price paid for specific product per order\n",
    "df[\"TotalPrice\"] = df[\"Quantity\"] * df[\"Price\"]"
   ]
  },
  {
   "cell_type": "code",
   "execution_count": 19,
   "id": "c950a15d",
   "metadata": {},
   "outputs": [
    {
     "data": {
      "text/html": [
       "<div>\n",
       "<style scoped>\n",
       "    .dataframe tbody tr th:only-of-type {\n",
       "        vertical-align: middle;\n",
       "    }\n",
       "\n",
       "    .dataframe tbody tr th {\n",
       "        vertical-align: top;\n",
       "    }\n",
       "\n",
       "    .dataframe thead th {\n",
       "        text-align: right;\n",
       "    }\n",
       "</style>\n",
       "<table border=\"1\" class=\"dataframe\">\n",
       "  <thead>\n",
       "    <tr style=\"text-align: right;\">\n",
       "      <th></th>\n",
       "      <th>Invoice</th>\n",
       "      <th>StockCode</th>\n",
       "      <th>Description</th>\n",
       "      <th>Quantity</th>\n",
       "      <th>InvoiceDate</th>\n",
       "      <th>Price</th>\n",
       "      <th>Customer ID</th>\n",
       "      <th>Country</th>\n",
       "      <th>TotalPrice</th>\n",
       "    </tr>\n",
       "  </thead>\n",
       "  <tbody>\n",
       "    <tr>\n",
       "      <th>0</th>\n",
       "      <td>536365</td>\n",
       "      <td>85123A</td>\n",
       "      <td>WHITE HANGING HEART T-LIGHT HOLDER</td>\n",
       "      <td>6</td>\n",
       "      <td>2010-12-01 08:26:00</td>\n",
       "      <td>2.55000</td>\n",
       "      <td>17850.00000</td>\n",
       "      <td>United Kingdom</td>\n",
       "      <td>15.30000</td>\n",
       "    </tr>\n",
       "    <tr>\n",
       "      <th>1</th>\n",
       "      <td>536365</td>\n",
       "      <td>71053</td>\n",
       "      <td>WHITE METAL LANTERN</td>\n",
       "      <td>6</td>\n",
       "      <td>2010-12-01 08:26:00</td>\n",
       "      <td>3.39000</td>\n",
       "      <td>17850.00000</td>\n",
       "      <td>United Kingdom</td>\n",
       "      <td>20.34000</td>\n",
       "    </tr>\n",
       "    <tr>\n",
       "      <th>2</th>\n",
       "      <td>536365</td>\n",
       "      <td>84406B</td>\n",
       "      <td>CREAM CUPID HEARTS COAT HANGER</td>\n",
       "      <td>8</td>\n",
       "      <td>2010-12-01 08:26:00</td>\n",
       "      <td>2.75000</td>\n",
       "      <td>17850.00000</td>\n",
       "      <td>United Kingdom</td>\n",
       "      <td>22.00000</td>\n",
       "    </tr>\n",
       "    <tr>\n",
       "      <th>3</th>\n",
       "      <td>536365</td>\n",
       "      <td>84029G</td>\n",
       "      <td>KNITTED UNION FLAG HOT WATER BOTTLE</td>\n",
       "      <td>6</td>\n",
       "      <td>2010-12-01 08:26:00</td>\n",
       "      <td>3.39000</td>\n",
       "      <td>17850.00000</td>\n",
       "      <td>United Kingdom</td>\n",
       "      <td>20.34000</td>\n",
       "    </tr>\n",
       "    <tr>\n",
       "      <th>4</th>\n",
       "      <td>536365</td>\n",
       "      <td>84029E</td>\n",
       "      <td>RED WOOLLY HOTTIE WHITE HEART.</td>\n",
       "      <td>6</td>\n",
       "      <td>2010-12-01 08:26:00</td>\n",
       "      <td>3.39000</td>\n",
       "      <td>17850.00000</td>\n",
       "      <td>United Kingdom</td>\n",
       "      <td>20.34000</td>\n",
       "    </tr>\n",
       "  </tbody>\n",
       "</table>\n",
       "</div>"
      ],
      "text/plain": [
       "  Invoice StockCode                          Description  Quantity  \\\n",
       "0  536365    85123A   WHITE HANGING HEART T-LIGHT HOLDER         6   \n",
       "1  536365     71053                  WHITE METAL LANTERN         6   \n",
       "2  536365    84406B       CREAM CUPID HEARTS COAT HANGER         8   \n",
       "3  536365    84029G  KNITTED UNION FLAG HOT WATER BOTTLE         6   \n",
       "4  536365    84029E       RED WOOLLY HOTTIE WHITE HEART.         6   \n",
       "\n",
       "          InvoiceDate   Price  Customer ID         Country  TotalPrice  \n",
       "0 2010-12-01 08:26:00 2.55000  17850.00000  United Kingdom    15.30000  \n",
       "1 2010-12-01 08:26:00 3.39000  17850.00000  United Kingdom    20.34000  \n",
       "2 2010-12-01 08:26:00 2.75000  17850.00000  United Kingdom    22.00000  \n",
       "3 2010-12-01 08:26:00 3.39000  17850.00000  United Kingdom    20.34000  \n",
       "4 2010-12-01 08:26:00 3.39000  17850.00000  United Kingdom    20.34000  "
      ]
     },
     "execution_count": 19,
     "metadata": {},
     "output_type": "execute_result"
    }
   ],
   "source": [
    "df.head()"
   ]
  },
  {
   "cell_type": "code",
   "execution_count": 20,
   "id": "9ab18cfa",
   "metadata": {},
   "outputs": [
    {
     "data": {
      "text/plain": [
       "Invoice             0\n",
       "StockCode           0\n",
       "Description       592\n",
       "Quantity            0\n",
       "InvoiceDate         0\n",
       "Price               0\n",
       "Customer ID    133361\n",
       "Country             0\n",
       "TotalPrice          0\n",
       "dtype: int64"
      ]
     },
     "execution_count": 20,
     "metadata": {},
     "output_type": "execute_result"
    }
   ],
   "source": [
    "df.isnull().sum()"
   ]
  },
  {
   "cell_type": "code",
   "execution_count": 21,
   "id": "fd2c9b9e",
   "metadata": {
    "scrolled": true
   },
   "outputs": [],
   "source": [
    "#removing orders with no customer id or product description\n",
    "df.dropna(inplace=True)"
   ]
  },
  {
   "cell_type": "code",
   "execution_count": 23,
   "id": "0bb4bac1",
   "metadata": {},
   "outputs": [],
   "source": [
    "# one row per customer:\n",
    "# counting total number of transactions\n",
    "# summing quantity of each product purchased \n",
    "# and total spendings of each customer\n",
    "\n",
    "cltv_df = df.groupby('Customer ID').agg({'Invoice': lambda x: x.nunique(), \n",
    "                                        'Quantity': lambda x: x.sum(),\n",
    "                                        'TotalPrice': lambda x: x.sum()})"
   ]
  },
  {
   "cell_type": "code",
   "execution_count": 25,
   "id": "ae342cf7",
   "metadata": {},
   "outputs": [],
   "source": [
    "#re-naming the new columns\n",
    "cltv_df.columns = ['total_transaction', 'total_unit', 'total_price']"
   ]
  },
  {
   "cell_type": "code",
   "execution_count": 26,
   "id": "b37264b3",
   "metadata": {},
   "outputs": [
    {
     "data": {
      "text/html": [
       "<div>\n",
       "<style scoped>\n",
       "    .dataframe tbody tr th:only-of-type {\n",
       "        vertical-align: middle;\n",
       "    }\n",
       "\n",
       "    .dataframe tbody tr th {\n",
       "        vertical-align: top;\n",
       "    }\n",
       "\n",
       "    .dataframe thead th {\n",
       "        text-align: right;\n",
       "    }\n",
       "</style>\n",
       "<table border=\"1\" class=\"dataframe\">\n",
       "  <thead>\n",
       "    <tr style=\"text-align: right;\">\n",
       "      <th></th>\n",
       "      <th>total_transaction</th>\n",
       "      <th>total_unit</th>\n",
       "      <th>total_price</th>\n",
       "    </tr>\n",
       "    <tr>\n",
       "      <th>Customer ID</th>\n",
       "      <th></th>\n",
       "      <th></th>\n",
       "      <th></th>\n",
       "    </tr>\n",
       "  </thead>\n",
       "  <tbody>\n",
       "    <tr>\n",
       "      <th>12346.00000</th>\n",
       "      <td>1</td>\n",
       "      <td>74215</td>\n",
       "      <td>77183.60000</td>\n",
       "    </tr>\n",
       "    <tr>\n",
       "      <th>12347.00000</th>\n",
       "      <td>7</td>\n",
       "      <td>2458</td>\n",
       "      <td>4310.00000</td>\n",
       "    </tr>\n",
       "    <tr>\n",
       "      <th>12348.00000</th>\n",
       "      <td>4</td>\n",
       "      <td>2341</td>\n",
       "      <td>1797.24000</td>\n",
       "    </tr>\n",
       "    <tr>\n",
       "      <th>12349.00000</th>\n",
       "      <td>1</td>\n",
       "      <td>631</td>\n",
       "      <td>1757.55000</td>\n",
       "    </tr>\n",
       "    <tr>\n",
       "      <th>12350.00000</th>\n",
       "      <td>1</td>\n",
       "      <td>197</td>\n",
       "      <td>334.40000</td>\n",
       "    </tr>\n",
       "    <tr>\n",
       "      <th>...</th>\n",
       "      <td>...</td>\n",
       "      <td>...</td>\n",
       "      <td>...</td>\n",
       "    </tr>\n",
       "    <tr>\n",
       "      <th>18280.00000</th>\n",
       "      <td>1</td>\n",
       "      <td>45</td>\n",
       "      <td>180.60000</td>\n",
       "    </tr>\n",
       "    <tr>\n",
       "      <th>18281.00000</th>\n",
       "      <td>1</td>\n",
       "      <td>54</td>\n",
       "      <td>80.82000</td>\n",
       "    </tr>\n",
       "    <tr>\n",
       "      <th>18282.00000</th>\n",
       "      <td>2</td>\n",
       "      <td>103</td>\n",
       "      <td>178.05000</td>\n",
       "    </tr>\n",
       "    <tr>\n",
       "      <th>18283.00000</th>\n",
       "      <td>16</td>\n",
       "      <td>1397</td>\n",
       "      <td>2094.88000</td>\n",
       "    </tr>\n",
       "    <tr>\n",
       "      <th>18287.00000</th>\n",
       "      <td>3</td>\n",
       "      <td>1586</td>\n",
       "      <td>1837.28000</td>\n",
       "    </tr>\n",
       "  </tbody>\n",
       "</table>\n",
       "<p>4339 rows × 3 columns</p>\n",
       "</div>"
      ],
      "text/plain": [
       "             total_transaction  total_unit  total_price\n",
       "Customer ID                                            \n",
       "12346.00000                  1       74215  77183.60000\n",
       "12347.00000                  7        2458   4310.00000\n",
       "12348.00000                  4        2341   1797.24000\n",
       "12349.00000                  1         631   1757.55000\n",
       "12350.00000                  1         197    334.40000\n",
       "...                        ...         ...          ...\n",
       "18280.00000                  1          45    180.60000\n",
       "18281.00000                  1          54     80.82000\n",
       "18282.00000                  2         103    178.05000\n",
       "18283.00000                 16        1397   2094.88000\n",
       "18287.00000                  3        1586   1837.28000\n",
       "\n",
       "[4339 rows x 3 columns]"
      ]
     },
     "execution_count": 26,
     "metadata": {},
     "output_type": "execute_result"
    }
   ],
   "source": [
    "# index comes from groupby\n",
    "cltv_df"
   ]
  },
  {
   "cell_type": "code",
   "execution_count": 114,
   "id": "3dd59c7e",
   "metadata": {},
   "outputs": [
    {
     "data": {
      "text/plain": [
       "(4339, 3)"
      ]
     },
     "execution_count": 114,
     "metadata": {},
     "output_type": "execute_result"
    }
   ],
   "source": [
    "cltv_df.shape"
   ]
  },
  {
   "cell_type": "code",
   "execution_count": 27,
   "id": "d9909b8e",
   "metadata": {},
   "outputs": [],
   "source": [
    "#feature generation: calculating average revenue per user \n",
    "cltv_df[\"avg_order_value\"] = cltv_df[\"total_price\"] / cltv_df[\"total_transaction\"]"
   ]
  },
  {
   "cell_type": "code",
   "execution_count": 116,
   "id": "7910ce5a",
   "metadata": {},
   "outputs": [
    {
     "data": {
      "text/html": [
       "<div>\n",
       "<style scoped>\n",
       "    .dataframe tbody tr th:only-of-type {\n",
       "        vertical-align: middle;\n",
       "    }\n",
       "\n",
       "    .dataframe tbody tr th {\n",
       "        vertical-align: top;\n",
       "    }\n",
       "\n",
       "    .dataframe thead th {\n",
       "        text-align: right;\n",
       "    }\n",
       "</style>\n",
       "<table border=\"1\" class=\"dataframe\">\n",
       "  <thead>\n",
       "    <tr style=\"text-align: right;\">\n",
       "      <th></th>\n",
       "      <th>total_transaction</th>\n",
       "      <th>total_unit</th>\n",
       "      <th>total_price</th>\n",
       "      <th>avg_order_value</th>\n",
       "    </tr>\n",
       "    <tr>\n",
       "      <th>Customer ID</th>\n",
       "      <th></th>\n",
       "      <th></th>\n",
       "      <th></th>\n",
       "      <th></th>\n",
       "    </tr>\n",
       "  </thead>\n",
       "  <tbody>\n",
       "    <tr>\n",
       "      <th>12346.00000</th>\n",
       "      <td>1</td>\n",
       "      <td>74215</td>\n",
       "      <td>77183.60000</td>\n",
       "      <td>77183.60000</td>\n",
       "    </tr>\n",
       "    <tr>\n",
       "      <th>12347.00000</th>\n",
       "      <td>7</td>\n",
       "      <td>2458</td>\n",
       "      <td>4310.00000</td>\n",
       "      <td>615.71429</td>\n",
       "    </tr>\n",
       "    <tr>\n",
       "      <th>12348.00000</th>\n",
       "      <td>4</td>\n",
       "      <td>2341</td>\n",
       "      <td>1797.24000</td>\n",
       "      <td>449.31000</td>\n",
       "    </tr>\n",
       "    <tr>\n",
       "      <th>12349.00000</th>\n",
       "      <td>1</td>\n",
       "      <td>631</td>\n",
       "      <td>1757.55000</td>\n",
       "      <td>1757.55000</td>\n",
       "    </tr>\n",
       "    <tr>\n",
       "      <th>12350.00000</th>\n",
       "      <td>1</td>\n",
       "      <td>197</td>\n",
       "      <td>334.40000</td>\n",
       "      <td>334.40000</td>\n",
       "    </tr>\n",
       "  </tbody>\n",
       "</table>\n",
       "</div>"
      ],
      "text/plain": [
       "             total_transaction  total_unit  total_price  avg_order_value\n",
       "Customer ID                                                             \n",
       "12346.00000                  1       74215  77183.60000      77183.60000\n",
       "12347.00000                  7        2458   4310.00000        615.71429\n",
       "12348.00000                  4        2341   1797.24000        449.31000\n",
       "12349.00000                  1         631   1757.55000       1757.55000\n",
       "12350.00000                  1         197    334.40000        334.40000"
      ]
     },
     "execution_count": 116,
     "metadata": {},
     "output_type": "execute_result"
    }
   ],
   "source": [
    "cltv_df.head()"
   ]
  },
  {
   "cell_type": "code",
   "execution_count": 117,
   "id": "f2d3bd25",
   "metadata": {
    "scrolled": true
   },
   "outputs": [
    {
     "data": {
      "text/html": [
       "<div>\n",
       "<style scoped>\n",
       "    .dataframe tbody tr th:only-of-type {\n",
       "        vertical-align: middle;\n",
       "    }\n",
       "\n",
       "    .dataframe tbody tr th {\n",
       "        vertical-align: top;\n",
       "    }\n",
       "\n",
       "    .dataframe thead th {\n",
       "        text-align: right;\n",
       "    }\n",
       "</style>\n",
       "<table border=\"1\" class=\"dataframe\">\n",
       "  <thead>\n",
       "    <tr style=\"text-align: right;\">\n",
       "      <th></th>\n",
       "      <th>count</th>\n",
       "      <th>mean</th>\n",
       "      <th>std</th>\n",
       "      <th>min</th>\n",
       "      <th>25%</th>\n",
       "      <th>50%</th>\n",
       "      <th>75%</th>\n",
       "      <th>max</th>\n",
       "    </tr>\n",
       "  </thead>\n",
       "  <tbody>\n",
       "    <tr>\n",
       "      <th>total_transaction</th>\n",
       "      <td>4339.00000</td>\n",
       "      <td>4.27195</td>\n",
       "      <td>7.70549</td>\n",
       "      <td>1.00000</td>\n",
       "      <td>1.00000</td>\n",
       "      <td>2.00000</td>\n",
       "      <td>5.00000</td>\n",
       "      <td>210.00000</td>\n",
       "    </tr>\n",
       "    <tr>\n",
       "      <th>total_unit</th>\n",
       "      <td>4339.00000</td>\n",
       "      <td>1194.21457</td>\n",
       "      <td>5055.60301</td>\n",
       "      <td>1.00000</td>\n",
       "      <td>160.00000</td>\n",
       "      <td>379.00000</td>\n",
       "      <td>993.00000</td>\n",
       "      <td>197491.00000</td>\n",
       "    </tr>\n",
       "    <tr>\n",
       "      <th>total_price</th>\n",
       "      <td>4339.00000</td>\n",
       "      <td>2053.79717</td>\n",
       "      <td>8988.24784</td>\n",
       "      <td>0.00000</td>\n",
       "      <td>307.24500</td>\n",
       "      <td>674.45000</td>\n",
       "      <td>1661.64000</td>\n",
       "      <td>280206.02000</td>\n",
       "    </tr>\n",
       "    <tr>\n",
       "      <th>avg_order_value</th>\n",
       "      <td>4339.00000</td>\n",
       "      <td>419.04874</td>\n",
       "      <td>1796.32070</td>\n",
       "      <td>0.00000</td>\n",
       "      <td>178.50500</td>\n",
       "      <td>293.69000</td>\n",
       "      <td>430.02250</td>\n",
       "      <td>84236.25000</td>\n",
       "    </tr>\n",
       "  </tbody>\n",
       "</table>\n",
       "</div>"
      ],
      "text/plain": [
       "                       count       mean        std     min       25%  \\\n",
       "total_transaction 4339.00000    4.27195    7.70549 1.00000   1.00000   \n",
       "total_unit        4339.00000 1194.21457 5055.60301 1.00000 160.00000   \n",
       "total_price       4339.00000 2053.79717 8988.24784 0.00000 307.24500   \n",
       "avg_order_value   4339.00000  419.04874 1796.32070 0.00000 178.50500   \n",
       "\n",
       "                        50%        75%          max  \n",
       "total_transaction   2.00000    5.00000    210.00000  \n",
       "total_unit        379.00000  993.00000 197491.00000  \n",
       "total_price       674.45000 1661.64000 280206.02000  \n",
       "avg_order_value   293.69000  430.02250  84236.25000  "
      ]
     },
     "execution_count": 117,
     "metadata": {},
     "output_type": "execute_result"
    }
   ],
   "source": [
    "cltv_df.describe().T"
   ]
  },
  {
   "cell_type": "markdown",
   "id": "c08e7b7f",
   "metadata": {},
   "source": [
    "50% is also called the median. The median and mean are mismatching in this dataset meaning there are likely to be outliers. Median less than mean = right scewed data. Ether many outliers or a few big ones"
   ]
  },
  {
   "cell_type": "markdown",
   "id": "d7f88c26",
   "metadata": {},
   "source": [
    "#### Outlier calculation function"
   ]
  },
  {
   "cell_type": "code",
   "execution_count": 29,
   "id": "e1e50c25",
   "metadata": {},
   "outputs": [],
   "source": [
    "# defining at which value data is considered an outlier. \n",
    "# this function will only be called within the function below\n",
    "\n",
    "def outlier_tresholds(dataframe, col_name, q1 = 0.25, q3 =0.75):\n",
    "    quartile1 = dataframe[col_name].quantile(q1)\n",
    "    quartile3 = dataframe[col_name].quantile(q3)\n",
    "    interquartile_range = quartile3 - quartile1\n",
    "    up_limit = quartile3 + 1.5 * interquartile_range\n",
    "    low_limit = quartile1 - 1.5 * interquartile_range\n",
    "    return low_limit, up_limit"
   ]
  },
  {
   "cell_type": "code",
   "execution_count": 30,
   "id": "2d528ffa",
   "metadata": {},
   "outputs": [],
   "source": [
    "#calling the function from above inside new function to replace outliers with highest/lowest possible value\n",
    "# method is called Capping\n",
    "def replace_with_tresholds(dataframe, variable):\n",
    "    low_limit, up_limit = outlier_tresholds(dataframe, variable)\n",
    "    dataframe.loc[(dataframe[variable] < low_limit), variable] = low_limit\n",
    "    dataframe.loc[(dataframe[variable] > up_limit), variable] = up_limit"
   ]
  },
  {
   "cell_type": "code",
   "execution_count": 31,
   "id": "0e05b35e",
   "metadata": {},
   "outputs": [],
   "source": [
    "#searching/replacing outliers in these columns\n",
    "outlierTest = [\"total_transaction\",\"total_unit\",\"total_price\",\"avg_order_value\"]"
   ]
  },
  {
   "cell_type": "code",
   "execution_count": 32,
   "id": "c3f9dd8f",
   "metadata": {},
   "outputs": [],
   "source": [
    "#calling function defined above\n",
    "for col in outlierTest:\n",
    "    replace_with_tresholds(cltv_df, col)"
   ]
  },
  {
   "cell_type": "code",
   "execution_count": 33,
   "id": "d4f14326",
   "metadata": {},
   "outputs": [
    {
     "data": {
      "text/html": [
       "<div>\n",
       "<style scoped>\n",
       "    .dataframe tbody tr th:only-of-type {\n",
       "        vertical-align: middle;\n",
       "    }\n",
       "\n",
       "    .dataframe tbody tr th {\n",
       "        vertical-align: top;\n",
       "    }\n",
       "\n",
       "    .dataframe thead th {\n",
       "        text-align: right;\n",
       "    }\n",
       "</style>\n",
       "<table border=\"1\" class=\"dataframe\">\n",
       "  <thead>\n",
       "    <tr style=\"text-align: right;\">\n",
       "      <th></th>\n",
       "      <th>total_transaction</th>\n",
       "      <th>total_unit</th>\n",
       "      <th>total_price</th>\n",
       "      <th>avg_order_value</th>\n",
       "    </tr>\n",
       "    <tr>\n",
       "      <th>Customer ID</th>\n",
       "      <th></th>\n",
       "      <th></th>\n",
       "      <th></th>\n",
       "      <th></th>\n",
       "    </tr>\n",
       "  </thead>\n",
       "  <tbody>\n",
       "    <tr>\n",
       "      <th>12346.00000</th>\n",
       "      <td>1.00000</td>\n",
       "      <td>2242.50000</td>\n",
       "      <td>3693.23250</td>\n",
       "      <td>807.29875</td>\n",
       "    </tr>\n",
       "    <tr>\n",
       "      <th>12347.00000</th>\n",
       "      <td>7.00000</td>\n",
       "      <td>2242.50000</td>\n",
       "      <td>3693.23250</td>\n",
       "      <td>615.71429</td>\n",
       "    </tr>\n",
       "    <tr>\n",
       "      <th>12348.00000</th>\n",
       "      <td>4.00000</td>\n",
       "      <td>2242.50000</td>\n",
       "      <td>1797.24000</td>\n",
       "      <td>449.31000</td>\n",
       "    </tr>\n",
       "    <tr>\n",
       "      <th>12349.00000</th>\n",
       "      <td>1.00000</td>\n",
       "      <td>631.00000</td>\n",
       "      <td>1757.55000</td>\n",
       "      <td>807.29875</td>\n",
       "    </tr>\n",
       "    <tr>\n",
       "      <th>12350.00000</th>\n",
       "      <td>1.00000</td>\n",
       "      <td>197.00000</td>\n",
       "      <td>334.40000</td>\n",
       "      <td>334.40000</td>\n",
       "    </tr>\n",
       "  </tbody>\n",
       "</table>\n",
       "</div>"
      ],
      "text/plain": [
       "             total_transaction  total_unit  total_price  avg_order_value\n",
       "Customer ID                                                             \n",
       "12346.00000            1.00000  2242.50000   3693.23250        807.29875\n",
       "12347.00000            7.00000  2242.50000   3693.23250        615.71429\n",
       "12348.00000            4.00000  2242.50000   1797.24000        449.31000\n",
       "12349.00000            1.00000   631.00000   1757.55000        807.29875\n",
       "12350.00000            1.00000   197.00000    334.40000        334.40000"
      ]
     },
     "execution_count": 33,
     "metadata": {},
     "output_type": "execute_result"
    }
   ],
   "source": [
    "cltv_df.head()"
   ]
  },
  {
   "cell_type": "code",
   "execution_count": 34,
   "id": "7b38391f",
   "metadata": {},
   "outputs": [
    {
     "data": {
      "text/plain": [
       "(4339, 4)"
      ]
     },
     "execution_count": 34,
     "metadata": {},
     "output_type": "execute_result"
    }
   ],
   "source": [
    "cltv_df.shape"
   ]
  },
  {
   "cell_type": "code",
   "execution_count": 38,
   "id": "1105e640",
   "metadata": {},
   "outputs": [],
   "source": [
    "total_customers = cltv_df.shape[0]"
   ]
  },
  {
   "cell_type": "code",
   "execution_count": 36,
   "id": "29d6f91b",
   "metadata": {
    "scrolled": true
   },
   "outputs": [
    {
     "data": {
      "text/html": [
       "<div>\n",
       "<style scoped>\n",
       "    .dataframe tbody tr th:only-of-type {\n",
       "        vertical-align: middle;\n",
       "    }\n",
       "\n",
       "    .dataframe tbody tr th {\n",
       "        vertical-align: top;\n",
       "    }\n",
       "\n",
       "    .dataframe thead th {\n",
       "        text-align: right;\n",
       "    }\n",
       "</style>\n",
       "<table border=\"1\" class=\"dataframe\">\n",
       "  <thead>\n",
       "    <tr style=\"text-align: right;\">\n",
       "      <th></th>\n",
       "      <th>count</th>\n",
       "      <th>mean</th>\n",
       "      <th>std</th>\n",
       "      <th>min</th>\n",
       "      <th>25%</th>\n",
       "      <th>50%</th>\n",
       "      <th>75%</th>\n",
       "      <th>max</th>\n",
       "    </tr>\n",
       "  </thead>\n",
       "  <tbody>\n",
       "    <tr>\n",
       "      <th>total_transaction</th>\n",
       "      <td>4339.00000</td>\n",
       "      <td>3.48629</td>\n",
       "      <td>3.04007</td>\n",
       "      <td>1.00000</td>\n",
       "      <td>1.00000</td>\n",
       "      <td>2.00000</td>\n",
       "      <td>5.00000</td>\n",
       "      <td>11.00000</td>\n",
       "    </tr>\n",
       "    <tr>\n",
       "      <th>total_unit</th>\n",
       "      <td>4339.00000</td>\n",
       "      <td>685.32968</td>\n",
       "      <td>699.48092</td>\n",
       "      <td>1.00000</td>\n",
       "      <td>160.00000</td>\n",
       "      <td>379.00000</td>\n",
       "      <td>993.00000</td>\n",
       "      <td>2242.50000</td>\n",
       "    </tr>\n",
       "    <tr>\n",
       "      <th>total_price</th>\n",
       "      <td>4339.00000</td>\n",
       "      <td>1162.64904</td>\n",
       "      <td>1148.07508</td>\n",
       "      <td>0.00000</td>\n",
       "      <td>307.24500</td>\n",
       "      <td>674.45000</td>\n",
       "      <td>1661.64000</td>\n",
       "      <td>3693.23250</td>\n",
       "    </tr>\n",
       "    <tr>\n",
       "      <th>avg_order_value</th>\n",
       "      <td>4339.00000</td>\n",
       "      <td>333.18953</td>\n",
       "      <td>202.65514</td>\n",
       "      <td>0.00000</td>\n",
       "      <td>178.50500</td>\n",
       "      <td>293.69000</td>\n",
       "      <td>430.02250</td>\n",
       "      <td>807.29875</td>\n",
       "    </tr>\n",
       "  </tbody>\n",
       "</table>\n",
       "</div>"
      ],
      "text/plain": [
       "                       count       mean        std     min       25%  \\\n",
       "total_transaction 4339.00000    3.48629    3.04007 1.00000   1.00000   \n",
       "total_unit        4339.00000  685.32968  699.48092 1.00000 160.00000   \n",
       "total_price       4339.00000 1162.64904 1148.07508 0.00000 307.24500   \n",
       "avg_order_value   4339.00000  333.18953  202.65514 0.00000 178.50500   \n",
       "\n",
       "                        50%        75%        max  \n",
       "total_transaction   2.00000    5.00000   11.00000  \n",
       "total_unit        379.00000  993.00000 2242.50000  \n",
       "total_price       674.45000 1661.64000 3693.23250  \n",
       "avg_order_value   293.69000  430.02250  807.29875  "
      ]
     },
     "execution_count": 36,
     "metadata": {},
     "output_type": "execute_result"
    }
   ],
   "source": [
    "cltv_df.describe().T"
   ]
  },
  {
   "cell_type": "markdown",
   "id": "6ef1f635",
   "metadata": {},
   "source": [
    "Median and mean are much closer together now. Good! Still not ideal because median still higher than mean."
   ]
  },
  {
   "cell_type": "code",
   "execution_count": 37,
   "id": "693ec81e",
   "metadata": {},
   "outputs": [
    {
     "data": {
      "text/html": [
       "<div>\n",
       "<style scoped>\n",
       "    .dataframe tbody tr th:only-of-type {\n",
       "        vertical-align: middle;\n",
       "    }\n",
       "\n",
       "    .dataframe tbody tr th {\n",
       "        vertical-align: top;\n",
       "    }\n",
       "\n",
       "    .dataframe thead th {\n",
       "        text-align: right;\n",
       "    }\n",
       "</style>\n",
       "<table border=\"1\" class=\"dataframe\">\n",
       "  <thead>\n",
       "    <tr style=\"text-align: right;\">\n",
       "      <th></th>\n",
       "      <th>total_transaction</th>\n",
       "      <th>total_unit</th>\n",
       "      <th>total_price</th>\n",
       "      <th>avg_order_value</th>\n",
       "    </tr>\n",
       "    <tr>\n",
       "      <th>Customer ID</th>\n",
       "      <th></th>\n",
       "      <th></th>\n",
       "      <th></th>\n",
       "      <th></th>\n",
       "    </tr>\n",
       "  </thead>\n",
       "  <tbody>\n",
       "    <tr>\n",
       "      <th>12346.00000</th>\n",
       "      <td>1.00000</td>\n",
       "      <td>2242.50000</td>\n",
       "      <td>3693.23250</td>\n",
       "      <td>807.29875</td>\n",
       "    </tr>\n",
       "    <tr>\n",
       "      <th>12347.00000</th>\n",
       "      <td>7.00000</td>\n",
       "      <td>2242.50000</td>\n",
       "      <td>3693.23250</td>\n",
       "      <td>615.71429</td>\n",
       "    </tr>\n",
       "    <tr>\n",
       "      <th>12348.00000</th>\n",
       "      <td>4.00000</td>\n",
       "      <td>2242.50000</td>\n",
       "      <td>1797.24000</td>\n",
       "      <td>449.31000</td>\n",
       "    </tr>\n",
       "    <tr>\n",
       "      <th>12349.00000</th>\n",
       "      <td>1.00000</td>\n",
       "      <td>631.00000</td>\n",
       "      <td>1757.55000</td>\n",
       "      <td>807.29875</td>\n",
       "    </tr>\n",
       "    <tr>\n",
       "      <th>12350.00000</th>\n",
       "      <td>1.00000</td>\n",
       "      <td>197.00000</td>\n",
       "      <td>334.40000</td>\n",
       "      <td>334.40000</td>\n",
       "    </tr>\n",
       "  </tbody>\n",
       "</table>\n",
       "</div>"
      ],
      "text/plain": [
       "             total_transaction  total_unit  total_price  avg_order_value\n",
       "Customer ID                                                             \n",
       "12346.00000            1.00000  2242.50000   3693.23250        807.29875\n",
       "12347.00000            7.00000  2242.50000   3693.23250        615.71429\n",
       "12348.00000            4.00000  2242.50000   1797.24000        449.31000\n",
       "12349.00000            1.00000   631.00000   1757.55000        807.29875\n",
       "12350.00000            1.00000   197.00000    334.40000        334.40000"
      ]
     },
     "execution_count": 37,
     "metadata": {},
     "output_type": "execute_result"
    }
   ],
   "source": [
    "cltv_df.head()"
   ]
  },
  {
   "cell_type": "code",
   "execution_count": 40,
   "id": "b280d4f8",
   "metadata": {},
   "outputs": [
    {
     "data": {
      "text/plain": [
       "3.4862871629407697"
      ]
     },
     "execution_count": 40,
     "metadata": {},
     "output_type": "execute_result"
    }
   ],
   "source": [
    "# calculating average number of purchases per client\n",
    "purchase_frequency = cltv_df['total_transaction'].sum() / total_customers\n",
    "purchase_frequency"
   ]
  },
  {
   "cell_type": "markdown",
   "id": "5559ad3e",
   "metadata": {},
   "source": [
    "### Calculate repeat rate and churn rate"
   ]
  },
  {
   "cell_type": "code",
   "execution_count": 41,
   "id": "f8698157",
   "metadata": {},
   "outputs": [
    {
     "data": {
      "text/plain": [
       "0.6556810324959668"
      ]
     },
     "execution_count": 41,
     "metadata": {},
     "output_type": "execute_result"
    }
   ],
   "source": [
    "# calculate rate of returning clients \n",
    "repeat_rate = cltv_df[cltv_df['total_transaction'] > 1].shape[0] / total_customers\n",
    "repeat_rate"
   ]
  },
  {
   "cell_type": "code",
   "execution_count": 42,
   "id": "0adc5478",
   "metadata": {},
   "outputs": [
    {
     "data": {
      "text/plain": [
       "0.34431896750403324"
      ]
     },
     "execution_count": 42,
     "metadata": {},
     "output_type": "execute_result"
    }
   ],
   "source": [
    "churn_rate = 1 - repeat_rate # in one year\n",
    "churn_rate"
   ]
  },
  {
   "cell_type": "markdown",
   "id": "9c24d64c",
   "metadata": {},
   "source": [
    "65% of customers are considered returning customers while 34% of customers churn after their first purchase"
   ]
  },
  {
   "cell_type": "code",
   "execution_count": 50,
   "id": "08df8207",
   "metadata": {},
   "outputs": [
    {
     "name": "stdout",
     "output_type": "stream",
     "text": [
      "3 Years users stay active\n",
      "35 Months users stay active\n"
     ]
    }
   ],
   "source": [
    "#time customer remains engaged aka Life time\n",
    "LT = 1/churn_rate \n",
    "print(round(LT), \"Years users stay active\")\n",
    "print(round(LT*12), \"Months users stay active\")"
   ]
  },
  {
   "cell_type": "markdown",
   "id": "9b79086d",
   "metadata": {},
   "source": [
    "### Calculate customer lifetime value"
   ]
  },
  {
   "cell_type": "code",
   "execution_count": 51,
   "id": "a37d0bd8",
   "metadata": {},
   "outputs": [
    {
     "name": "stdout",
     "output_type": "stream",
     "text": [
      "Customer lifetime value for all customers : 506.0399691037807\n"
     ]
    }
   ],
   "source": [
    "CLTV = LT * purchase_frequency * cltv_df.avg_order_value.mean()*0.15 #0.15 is given profit margin\n",
    "\n",
    "print(\"Customer lifetime value for all customers :\", CLTV)"
   ]
  },
  {
   "cell_type": "code",
   "execution_count": 58,
   "id": "361eaf31",
   "metadata": {
    "scrolled": true
   },
   "outputs": [
    {
     "name": "stdout",
     "output_type": "stream",
     "text": [
      "The Customer lifetime value to Customer acquisition cost Ratio is:  1.012\n",
      "Ratio over 1 indicated the business is acquiring customers profitably\n"
     ]
    }
   ],
   "source": [
    "# suppose the customer acquisition cost is 500 pounds\n",
    "CAC = 500\n",
    "CLTV_CAC_Ratio = CLTV/CAC\n",
    "\n",
    "print(\"The Customer lifetime value to Customer acquisition cost Ratio is: \", round(CLTV_CAC_Ratio, 3))\n",
    "if CLTV_CAC_Ratio > 1:\n",
    "    print(\"Ratio over 1 indicated the business is acquiring customers profitably\")\n",
    "else:\n",
    "    print(\"The acquisition costs are too high for the amound of revenue customers are expected to generate therefore it would be more profitable to spend more money in retaining customers\")"
   ]
  },
  {
   "cell_type": "markdown",
   "id": "2ff230b4",
   "metadata": {},
   "source": [
    "For every £1 spent on acquiring a customer (CAC), the business expects to earn £1.012 in revenue over the customer's lifetime. This ratio greater than 1 suggests that the business is generating more revenue from each customer than it's spending to acquire them"
   ]
  },
  {
   "cell_type": "code",
   "execution_count": 53,
   "id": "94df2d84",
   "metadata": {
    "scrolled": true
   },
   "outputs": [
    {
     "data": {
      "text/html": [
       "<div>\n",
       "<style scoped>\n",
       "    .dataframe tbody tr th:only-of-type {\n",
       "        vertical-align: middle;\n",
       "    }\n",
       "\n",
       "    .dataframe tbody tr th {\n",
       "        vertical-align: top;\n",
       "    }\n",
       "\n",
       "    .dataframe thead th {\n",
       "        text-align: right;\n",
       "    }\n",
       "</style>\n",
       "<table border=\"1\" class=\"dataframe\">\n",
       "  <thead>\n",
       "    <tr style=\"text-align: right;\">\n",
       "      <th></th>\n",
       "      <th>total_transaction</th>\n",
       "      <th>total_unit</th>\n",
       "      <th>total_price</th>\n",
       "      <th>avg_order_value</th>\n",
       "    </tr>\n",
       "    <tr>\n",
       "      <th>Customer ID</th>\n",
       "      <th></th>\n",
       "      <th></th>\n",
       "      <th></th>\n",
       "      <th></th>\n",
       "    </tr>\n",
       "  </thead>\n",
       "  <tbody>\n",
       "    <tr>\n",
       "      <th>12346.00000</th>\n",
       "      <td>1.00000</td>\n",
       "      <td>2242.50000</td>\n",
       "      <td>3693.23250</td>\n",
       "      <td>807.29875</td>\n",
       "    </tr>\n",
       "    <tr>\n",
       "      <th>12347.00000</th>\n",
       "      <td>7.00000</td>\n",
       "      <td>2242.50000</td>\n",
       "      <td>3693.23250</td>\n",
       "      <td>615.71429</td>\n",
       "    </tr>\n",
       "    <tr>\n",
       "      <th>12348.00000</th>\n",
       "      <td>4.00000</td>\n",
       "      <td>2242.50000</td>\n",
       "      <td>1797.24000</td>\n",
       "      <td>449.31000</td>\n",
       "    </tr>\n",
       "    <tr>\n",
       "      <th>12349.00000</th>\n",
       "      <td>1.00000</td>\n",
       "      <td>631.00000</td>\n",
       "      <td>1757.55000</td>\n",
       "      <td>807.29875</td>\n",
       "    </tr>\n",
       "    <tr>\n",
       "      <th>12350.00000</th>\n",
       "      <td>1.00000</td>\n",
       "      <td>197.00000</td>\n",
       "      <td>334.40000</td>\n",
       "      <td>334.40000</td>\n",
       "    </tr>\n",
       "  </tbody>\n",
       "</table>\n",
       "</div>"
      ],
      "text/plain": [
       "             total_transaction  total_unit  total_price  avg_order_value\n",
       "Customer ID                                                             \n",
       "12346.00000            1.00000  2242.50000   3693.23250        807.29875\n",
       "12347.00000            7.00000  2242.50000   3693.23250        615.71429\n",
       "12348.00000            4.00000  2242.50000   1797.24000        449.31000\n",
       "12349.00000            1.00000   631.00000   1757.55000        807.29875\n",
       "12350.00000            1.00000   197.00000    334.40000        334.40000"
      ]
     },
     "execution_count": 53,
     "metadata": {},
     "output_type": "execute_result"
    }
   ],
   "source": [
    "cltv_df.head() "
   ]
  },
  {
   "cell_type": "markdown",
   "id": "b9a8a1f6",
   "metadata": {},
   "source": [
    "### Rule Based Segmentation"
   ]
  },
  {
   "cell_type": "markdown",
   "id": "6b77a418",
   "metadata": {},
   "source": [
    "In order to do specific marketing campaigns for"
   ]
  },
  {
   "cell_type": "code",
   "execution_count": 161,
   "id": "378a8a1d",
   "metadata": {},
   "outputs": [],
   "source": [
    "#splitting the data\n",
    "cltv_df[\"segment\"] = pd.qcut(cltv_df[\"avg_order_value\"], 4, labels= [\"D\", \"C\", \"B\", \"A\"])"
   ]
  },
  {
   "cell_type": "code",
   "execution_count": 162,
   "id": "5ccc22aa",
   "metadata": {},
   "outputs": [
    {
     "data": {
      "text/html": [
       "<div>\n",
       "<style scoped>\n",
       "    .dataframe tbody tr th:only-of-type {\n",
       "        vertical-align: middle;\n",
       "    }\n",
       "\n",
       "    .dataframe tbody tr th {\n",
       "        vertical-align: top;\n",
       "    }\n",
       "\n",
       "    .dataframe thead tr th {\n",
       "        text-align: left;\n",
       "    }\n",
       "\n",
       "    .dataframe thead tr:last-of-type th {\n",
       "        text-align: right;\n",
       "    }\n",
       "</style>\n",
       "<table border=\"1\" class=\"dataframe\">\n",
       "  <thead>\n",
       "    <tr>\n",
       "      <th></th>\n",
       "      <th colspan=\"2\" halign=\"left\">avg_order_value</th>\n",
       "      <th colspan=\"2\" halign=\"left\">total_transaction</th>\n",
       "    </tr>\n",
       "    <tr>\n",
       "      <th></th>\n",
       "      <th>mean</th>\n",
       "      <th>count</th>\n",
       "      <th>mean</th>\n",
       "      <th>count</th>\n",
       "    </tr>\n",
       "    <tr>\n",
       "      <th>segment</th>\n",
       "      <th></th>\n",
       "      <th></th>\n",
       "      <th></th>\n",
       "      <th></th>\n",
       "    </tr>\n",
       "  </thead>\n",
       "  <tbody>\n",
       "    <tr>\n",
       "      <th>D</th>\n",
       "      <td>123.75338</td>\n",
       "      <td>1085</td>\n",
       "      <td>2.59171</td>\n",
       "      <td>1085</td>\n",
       "    </tr>\n",
       "    <tr>\n",
       "      <th>C</th>\n",
       "      <td>230.52516</td>\n",
       "      <td>1085</td>\n",
       "      <td>3.70230</td>\n",
       "      <td>1085</td>\n",
       "    </tr>\n",
       "    <tr>\n",
       "      <th>B</th>\n",
       "      <td>352.54848</td>\n",
       "      <td>1084</td>\n",
       "      <td>3.69926</td>\n",
       "      <td>1084</td>\n",
       "    </tr>\n",
       "    <tr>\n",
       "      <th>A</th>\n",
       "      <td>625.94896</td>\n",
       "      <td>1085</td>\n",
       "      <td>3.95207</td>\n",
       "      <td>1085</td>\n",
       "    </tr>\n",
       "  </tbody>\n",
       "</table>\n",
       "</div>"
      ],
      "text/plain": [
       "        avg_order_value       total_transaction      \n",
       "                   mean count              mean count\n",
       "segment                                              \n",
       "D             123.75338  1085           2.59171  1085\n",
       "C             230.52516  1085           3.70230  1085\n",
       "B             352.54848  1084           3.69926  1084\n",
       "A             625.94896  1085           3.95207  1085"
      ]
     },
     "execution_count": 162,
     "metadata": {},
     "output_type": "execute_result"
    }
   ],
   "source": [
    "cltv_df.groupby(\"segment\")[[\"avg_order_value\", \"total_transaction\"]].agg({\"count\" , \"mean\"})"
   ]
  },
  {
   "cell_type": "markdown",
   "id": "17cef4ed",
   "metadata": {},
   "source": [
    "Splitting customers into segments as done above allows businesses to make data-driven decisions tailored to different customer groups. This can lead to more effective marketing, increased customer satisfaction, and ultimately, improved financial performance.\n",
    "\n",
    "1. **Targeted Marketing**: For example, they can send special offers or promotions to high-value segments (e.g., 'A' segment with high average order value) to maximize revenue and retention, while sending re-engagement offers to lower-value segments.\n",
    "\n",
    "\n",
    "2. **Personalization**: Understanding customer segments helps in personalizing communication and product recommendations. High-value customers might prefer premium services or products, while budget-conscious customers may appreciate discounts.\n",
    "\n",
    "\n",
    "3. **Pricing Strategies**: Different segments may respond differently to pricing strategies. Businesses can optimize pricing models for each segment to maximize revenue and profitability.\n",
    "\n",
    "\n",
    "4. **Product Development**: For instance, high-value segments may indicate opportunities for premium products, while other segments may guide the development of budget-friendly options.\n",
    "\n",
    "\n",
    "5. **Retention Strategies**: For example, loyalty programs or referral incentives can be tailored to these segments.\n",
    "\n",
    "\n",
    "6. **Inventory Management**: It can ensure that products preferred by high-value segments are well-stocked and readily available.\n",
    "\n",
    "\n",
    "7. **Customer Service**:  High-value customers may appreciate proactive support, while others may prefer self-service options.\n",
    "\n",
    "\n",
    "8. **Predictive Analytics**: For example, businesses can predict which customers are likely to churn and take proactive steps to retain them.\n",
    "\n",
    "\n",
    "9. **Resource Allocation**: Businesses can allocate marketing budgets, sales efforts, and customer support resources based on the potential return from each segment.\n",
    "\n"
   ]
  },
  {
   "cell_type": "code",
   "execution_count": null,
   "id": "2ebae00f",
   "metadata": {},
   "outputs": [],
   "source": []
  }
 ],
 "metadata": {
  "kernelspec": {
   "display_name": "Python 3",
   "language": "python",
   "name": "python3"
  },
  "language_info": {
   "codemirror_mode": {
    "name": "ipython",
    "version": 3
   },
   "file_extension": ".py",
   "mimetype": "text/x-python",
   "name": "python",
   "nbconvert_exporter": "python",
   "pygments_lexer": "ipython3",
   "version": "3.8.8"
  }
 },
 "nbformat": 4,
 "nbformat_minor": 5
}
